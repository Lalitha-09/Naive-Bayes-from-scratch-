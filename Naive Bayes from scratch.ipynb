{
 "cells": [
  {
   "cell_type": "markdown",
   "id": "be09940d",
   "metadata": {},
   "source": [
    "# Performing Text Analysis\n",
    "                                                                                             V Hari Priya Subramanya Lalitha\n",
    "                                                                                                       2021MSBDA043"
   ]
  },
  {
   "cell_type": "code",
   "execution_count": 1,
   "id": "875af0ae",
   "metadata": {},
   "outputs": [],
   "source": [
    "import docx\n"
   ]
  },
  {
   "cell_type": "code",
   "execution_count": 2,
   "id": "b260b130",
   "metadata": {},
   "outputs": [],
   "source": [
    "from docx import Document"
   ]
  },
  {
   "cell_type": "code",
   "execution_count": 3,
   "id": "5235e808",
   "metadata": {},
   "outputs": [],
   "source": [
    "# counting the occurance of words in documents and replacing colon, comma etc.\n",
    "from collections import Counter\n",
    "def count_words(x,freq):\n",
    "    skip=[\".\",\", \",\":\",\";\",\"'\",'\"',]\n",
    "\n",
    "    for ch in skip:\n",
    "        #x=x.replace(ch,\"\")\n",
    "        x=list(map(lambda x: x.replace(ch,\"\"),x))\n",
    "    count={}\n",
    "    for ele in x:\n",
    "        if ele in count:\n",
    "            count[ele]+=1\n",
    "        else:\n",
    "            count[ele]=1\n",
    "    freqx=[]    \n",
    "    for ele in freq:      \n",
    "        if ele in count:\n",
    "            freqx1=count[ele]\n",
    "        else:\n",
    "            freqx1=0\n",
    "        freqx.append(freqx1)    \n",
    "    return freqx\n",
    "\n",
    "#reading the document and replacing some special characters with none.\n",
    "def read_doc(r_d):\n",
    "    doc=docx.Document(r_d)  \n",
    "    list1=[]\n",
    "    for p in doc.paragraphs:\n",
    "        list1.append(p.text)\n",
    "\n",
    "    a=str(\"\\n\".join(list1)) \n",
    "\n",
    "    a=a.lower()\n",
    "    a=a.replace(u'\\xa0',' ')\n",
    "    a=a.replace(u'\\n','')\n",
    "    a=a.replace(u', ',' ')\n",
    "    a=a.replace(u'(','')\n",
    "    a=a.replace(u')','')\n",
    "\n",
    "    y=a.split(\" \")\n",
    "    return y\n"
   ]
  },
  {
   "cell_type": "code",
   "execution_count": 4,
   "id": "2931b82e",
   "metadata": {},
   "outputs": [],
   "source": [
    "# words to be searched\n",
    "searc_word=[\"grow\",\"pollen\",\"prey\",\"animal\",\"plant\",\"size\"]"
   ]
  },
  {
   "cell_type": "code",
   "execution_count": 5,
   "id": "37f455b4",
   "metadata": {},
   "outputs": [
    {
     "name": "stdout",
     "output_type": "stream",
     "text": [
      "[0, 5, 0, 0, 2, 0]\n"
     ]
    }
   ],
   "source": [
    "k=read_doc(\"D0.docx\")\n",
    "r1=count_words(k,searc_word)\n",
    "print(r1)"
   ]
  },
  {
   "cell_type": "code",
   "execution_count": 6,
   "id": "e5331db4",
   "metadata": {},
   "outputs": [
    {
     "name": "stdout",
     "output_type": "stream",
     "text": [
      "[0, 1, 0, 0, 4, 2]\n"
     ]
    }
   ],
   "source": [
    "l=read_doc(\"D1.docx\")\n",
    "r2=count_words(l,searc_word)\n",
    "print(r2)"
   ]
  },
  {
   "cell_type": "code",
   "execution_count": 7,
   "id": "b990bf30",
   "metadata": {},
   "outputs": [
    {
     "name": "stdout",
     "output_type": "stream",
     "text": [
      "[0, 0, 0, 0, 4, 2]\n"
     ]
    }
   ],
   "source": [
    "o=read_doc(\"D2.docx\")\n",
    "r3=count_words(o,searc_word)\n",
    "print(r3)"
   ]
  },
  {
   "cell_type": "code",
   "execution_count": 8,
   "id": "fceda89d",
   "metadata": {},
   "outputs": [
    {
     "name": "stdout",
     "output_type": "stream",
     "text": [
      "[0, 0, 0, 2, 0, 1]\n"
     ]
    }
   ],
   "source": [
    "q1=read_doc(\"D3.docx\")\n",
    "r4=count_words(q1,searc_word)\n",
    "print(r4)"
   ]
  },
  {
   "cell_type": "code",
   "execution_count": 9,
   "id": "f156d8c1",
   "metadata": {},
   "outputs": [
    {
     "name": "stdout",
     "output_type": "stream",
     "text": [
      "[1, 0, 1, 2, 0, 1]\n"
     ]
    }
   ],
   "source": [
    "q2=read_doc(\"D4.docx\")\n",
    "r5=count_words(q2,searc_word)\n",
    "print(r5)"
   ]
  },
  {
   "cell_type": "code",
   "execution_count": 10,
   "id": "5f03a622",
   "metadata": {},
   "outputs": [
    {
     "name": "stdout",
     "output_type": "stream",
     "text": [
      "[0, 0, 1, 6, 0, 0]\n"
     ]
    }
   ],
   "source": [
    "q3=read_doc(\"D5.docx\")\n",
    "r6=count_words(q3,searc_word)\n",
    "print(r6)"
   ]
  },
  {
   "cell_type": "code",
   "execution_count": 11,
   "id": "3d80fe20",
   "metadata": {},
   "outputs": [
    {
     "data": {
      "text/plain": [
       "['grow', 'pollen', 'prey', 'animal', 'plant', 'size']"
      ]
     },
     "execution_count": 11,
     "metadata": {},
     "output_type": "execute_result"
    }
   ],
   "source": [
    "searc_word"
   ]
  },
  {
   "cell_type": "markdown",
   "id": "17c546f6",
   "metadata": {},
   "source": [
    "## Performing Naive Bayes classtification on two classes namely flowers and animals "
   ]
  },
  {
   "cell_type": "code",
   "execution_count": 12,
   "id": "4e5d157a",
   "metadata": {},
   "outputs": [],
   "source": [
    "import pandas as pd"
   ]
  },
  {
   "cell_type": "code",
   "execution_count": 13,
   "id": "999b1be0",
   "metadata": {},
   "outputs": [],
   "source": [
    "data=pd.read_excel(\"C:\\\\Users\\\\vadda\\\\OneDrive\\\\Desktop\\\\MSc Big Data\\\\text_analysis_data.xlsx\",\n",
    "                   )"
   ]
  },
  {
   "cell_type": "code",
   "execution_count": 14,
   "id": "75e35027",
   "metadata": {},
   "outputs": [],
   "source": [
    "data.index=['D0','D1','D2','D3','D4','D5']"
   ]
  },
  {
   "cell_type": "code",
   "execution_count": 15,
   "id": "bc59a5dd",
   "metadata": {},
   "outputs": [
    {
     "data": {
      "text/html": [
       "<div>\n",
       "<style scoped>\n",
       "    .dataframe tbody tr th:only-of-type {\n",
       "        vertical-align: middle;\n",
       "    }\n",
       "\n",
       "    .dataframe tbody tr th {\n",
       "        vertical-align: top;\n",
       "    }\n",
       "\n",
       "    .dataframe thead th {\n",
       "        text-align: right;\n",
       "    }\n",
       "</style>\n",
       "<table border=\"1\" class=\"dataframe\">\n",
       "  <thead>\n",
       "    <tr style=\"text-align: right;\">\n",
       "      <th></th>\n",
       "      <th>grow</th>\n",
       "      <th>pollen</th>\n",
       "      <th>prey</th>\n",
       "      <th>animal</th>\n",
       "      <th>plant</th>\n",
       "      <th>size</th>\n",
       "      <th>class</th>\n",
       "    </tr>\n",
       "  </thead>\n",
       "  <tbody>\n",
       "    <tr>\n",
       "      <th>D0</th>\n",
       "      <td>0</td>\n",
       "      <td>5</td>\n",
       "      <td>0</td>\n",
       "      <td>2</td>\n",
       "      <td>2</td>\n",
       "      <td>0</td>\n",
       "      <td>Flowers</td>\n",
       "    </tr>\n",
       "    <tr>\n",
       "      <th>D1</th>\n",
       "      <td>0</td>\n",
       "      <td>1</td>\n",
       "      <td>0</td>\n",
       "      <td>0</td>\n",
       "      <td>4</td>\n",
       "      <td>2</td>\n",
       "      <td>Flowers</td>\n",
       "    </tr>\n",
       "    <tr>\n",
       "      <th>D2</th>\n",
       "      <td>0</td>\n",
       "      <td>0</td>\n",
       "      <td>0</td>\n",
       "      <td>2</td>\n",
       "      <td>4</td>\n",
       "      <td>2</td>\n",
       "      <td>Flowers</td>\n",
       "    </tr>\n",
       "    <tr>\n",
       "      <th>D3</th>\n",
       "      <td>0</td>\n",
       "      <td>0</td>\n",
       "      <td>0</td>\n",
       "      <td>0</td>\n",
       "      <td>0</td>\n",
       "      <td>1</td>\n",
       "      <td>Animals</td>\n",
       "    </tr>\n",
       "    <tr>\n",
       "      <th>D4</th>\n",
       "      <td>1</td>\n",
       "      <td>0</td>\n",
       "      <td>1</td>\n",
       "      <td>0</td>\n",
       "      <td>0</td>\n",
       "      <td>1</td>\n",
       "      <td>Animals</td>\n",
       "    </tr>\n",
       "    <tr>\n",
       "      <th>D5</th>\n",
       "      <td>0</td>\n",
       "      <td>0</td>\n",
       "      <td>1</td>\n",
       "      <td>2</td>\n",
       "      <td>0</td>\n",
       "      <td>0</td>\n",
       "      <td>Animals</td>\n",
       "    </tr>\n",
       "  </tbody>\n",
       "</table>\n",
       "</div>"
      ],
      "text/plain": [
       "    grow  pollen  prey  animal  plant  size    class\n",
       "D0     0       5     0       2      2     0  Flowers\n",
       "D1     0       1     0       0      4     2  Flowers\n",
       "D2     0       0     0       2      4     2  Flowers\n",
       "D3     0       0     0       0      0     1  Animals\n",
       "D4     1       0     1       0      0     1  Animals\n",
       "D5     0       0     1       2      0     0  Animals"
      ]
     },
     "execution_count": 15,
     "metadata": {},
     "output_type": "execute_result"
    }
   ],
   "source": [
    "data"
   ]
  },
  {
   "cell_type": "code",
   "execution_count": 16,
   "id": "91e9d19b",
   "metadata": {},
   "outputs": [
    {
     "name": "stdout",
     "output_type": "stream",
     "text": [
      "sum of all instaces in flowers class = 24\n",
      "sum of all instances in animals class= 7\n"
     ]
    }
   ],
   "source": [
    "#for calculating sum of all instances present in Flowers class\n",
    "sum_flowers=0\n",
    "for i in range(0,3):\n",
    "    for j in range(0,6):\n",
    "        sum_flowers=sum_flowers+data.iloc[i,j]\n",
    "        \n",
    "#for calculating sum of all instances present in Animals class\n",
    "sum_animals=0\n",
    "for i in range(3,6):\n",
    "    for j in range(0,6):\n",
    "        sum_animals=sum_animals+data.iloc[i,j]\n",
    "        \n",
    "print(\"sum of all instaces in flowers class =\",sum_flowers)\n",
    "print(\"sum of all instances in animals class=\",sum_animals)"
   ]
  },
  {
   "cell_type": "code",
   "execution_count": 17,
   "id": "80e50836",
   "metadata": {},
   "outputs": [
    {
     "data": {
      "text/html": [
       "<div>\n",
       "<style scoped>\n",
       "    .dataframe tbody tr th:only-of-type {\n",
       "        vertical-align: middle;\n",
       "    }\n",
       "\n",
       "    .dataframe tbody tr th {\n",
       "        vertical-align: top;\n",
       "    }\n",
       "\n",
       "    .dataframe thead th {\n",
       "        text-align: right;\n",
       "    }\n",
       "</style>\n",
       "<table border=\"1\" class=\"dataframe\">\n",
       "  <thead>\n",
       "    <tr style=\"text-align: right;\">\n",
       "      <th></th>\n",
       "      <th>grow</th>\n",
       "      <th>pollen</th>\n",
       "      <th>prey</th>\n",
       "      <th>animal</th>\n",
       "      <th>plant</th>\n",
       "      <th>size</th>\n",
       "      <th>class</th>\n",
       "    </tr>\n",
       "  </thead>\n",
       "  <tbody>\n",
       "    <tr>\n",
       "      <th>D0</th>\n",
       "      <td>0</td>\n",
       "      <td>5</td>\n",
       "      <td>0</td>\n",
       "      <td>2</td>\n",
       "      <td>2</td>\n",
       "      <td>0</td>\n",
       "      <td>Flowers</td>\n",
       "    </tr>\n",
       "    <tr>\n",
       "      <th>D1</th>\n",
       "      <td>0</td>\n",
       "      <td>1</td>\n",
       "      <td>0</td>\n",
       "      <td>0</td>\n",
       "      <td>4</td>\n",
       "      <td>2</td>\n",
       "      <td>Flowers</td>\n",
       "    </tr>\n",
       "    <tr>\n",
       "      <th>D2</th>\n",
       "      <td>0</td>\n",
       "      <td>0</td>\n",
       "      <td>0</td>\n",
       "      <td>2</td>\n",
       "      <td>4</td>\n",
       "      <td>2</td>\n",
       "      <td>Flowers</td>\n",
       "    </tr>\n",
       "    <tr>\n",
       "      <th>D3</th>\n",
       "      <td>0</td>\n",
       "      <td>0</td>\n",
       "      <td>0</td>\n",
       "      <td>0</td>\n",
       "      <td>0</td>\n",
       "      <td>1</td>\n",
       "      <td>Animals</td>\n",
       "    </tr>\n",
       "    <tr>\n",
       "      <th>D4</th>\n",
       "      <td>1</td>\n",
       "      <td>0</td>\n",
       "      <td>1</td>\n",
       "      <td>0</td>\n",
       "      <td>0</td>\n",
       "      <td>1</td>\n",
       "      <td>Animals</td>\n",
       "    </tr>\n",
       "    <tr>\n",
       "      <th>D5</th>\n",
       "      <td>0</td>\n",
       "      <td>0</td>\n",
       "      <td>1</td>\n",
       "      <td>2</td>\n",
       "      <td>0</td>\n",
       "      <td>0</td>\n",
       "      <td>Animals</td>\n",
       "    </tr>\n",
       "  </tbody>\n",
       "</table>\n",
       "</div>"
      ],
      "text/plain": [
       "    grow  pollen  prey  animal  plant  size    class\n",
       "D0     0       5     0       2      2     0  Flowers\n",
       "D1     0       1     0       0      4     2  Flowers\n",
       "D2     0       0     0       2      4     2  Flowers\n",
       "D3     0       0     0       0      0     1  Animals\n",
       "D4     1       0     1       0      0     1  Animals\n",
       "D5     0       0     1       2      0     0  Animals"
      ]
     },
     "execution_count": 17,
     "metadata": {},
     "output_type": "execute_result"
    }
   ],
   "source": [
    "data"
   ]
  },
  {
   "cell_type": "code",
   "execution_count": 18,
   "id": "dbbd9486",
   "metadata": {},
   "outputs": [
    {
     "name": "stdout",
     "output_type": "stream",
     "text": [
      "We encountered a zero frequency problem in table\n",
      "So, please resolve the zero frequency problem\n"
     ]
    }
   ],
   "source": [
    "sum_flo=0\n",
    "sum_ani=0\n",
    "for j in range(0,6):\n",
    "    for i in range(0,3):\n",
    "        sum_flo=sum_flo+data.iloc[i,j]\n",
    "   \n",
    "    for k in range(3,6):\n",
    "        sum_ani=sum_ani+data.iloc[k,j]\n",
    "       \n",
    "    if (sum_flo==0 or sum_ani==0):\n",
    "            print(\"We encountered a zero frequency problem in table\")\n",
    "            print(\"So, please resolve the zero frequency problem\")\n",
    "            break\n"
   ]
  },
  {
   "cell_type": "markdown",
   "id": "b7e412d7",
   "metadata": {},
   "source": [
    "## Laplace smoothing for solving the zero frequency problem"
   ]
  },
  {
   "cell_type": "code",
   "execution_count": 19,
   "id": "24ee6d03",
   "metadata": {},
   "outputs": [],
   "source": [
    "n,m=data.shape"
   ]
  },
  {
   "cell_type": "code",
   "execution_count": 20,
   "id": "0ff89f62",
   "metadata": {},
   "outputs": [
    {
     "name": "stdout",
     "output_type": "stream",
     "text": [
      "Number of rows in data frame = 6\n",
      "Number of columns in data frame = 7\n",
      "6\n"
     ]
    }
   ],
   "source": [
    "print(\"Number of rows in data frame =\",n)\n",
    "print(\"Number of columns in data frame =\",m)\n",
    "nc=m-1\n",
    "print(nc)"
   ]
  },
  {
   "cell_type": "code",
   "execution_count": 21,
   "id": "fd3c3b0a",
   "metadata": {},
   "outputs": [
    {
     "name": "stdout",
     "output_type": "stream",
     "text": [
      " \n",
      "probability( grow /flowers) is 0.0333\n",
      " \n",
      "probability( grow /animals) is 0.0769\n",
      " \n",
      " \n",
      "probability( pollen /flowers) is 0.2333\n",
      " \n",
      "probability( pollen /animals) is 0.5385\n",
      " \n",
      " \n",
      "probability( prey /flowers) is 0.0333\n",
      " \n",
      "probability( prey /animals) is 0.1538\n",
      " \n",
      " \n",
      "probability( animal /flowers) is 0.1667\n",
      " \n",
      "probability( animal /animals) is 0.5385\n",
      " \n",
      " \n",
      "probability( plant /flowers) is 0.3667\n",
      " \n",
      "probability( plant /animals) is 0.8462\n",
      " \n",
      " \n",
      "probability( size /flowers) is 0.1667\n",
      " \n",
      "probability( size /animals) is 0.3846\n",
      " \n",
      "[0.0333, 0.2333, 0.0333, 0.1667, 0.3667, 0.1667]\n",
      "[0.0769, 0.5385, 0.1538, 0.5385, 0.8462, 0.3846]\n"
     ]
    }
   ],
   "source": [
    "# applying laplace smoothing for the occurances in the table\n",
    "x=[]\n",
    "y=[]\n",
    "for j in range(0,6):\n",
    "    prob_flow=0\n",
    "    prob_ani=0\n",
    "    for i in range(0,3):\n",
    "        prob_flow= prob_flow+data.iloc[i,j]\n",
    "        prob_flow_smoo=round(((prob_flow+(nc*1/nc))/(sum_flowers+nc)),4)\n",
    "    x.append(prob_flow_smoo)\n",
    "    for k in range(3,6):\n",
    "        prob_ani= prob_flow+data.iloc[k,j]\n",
    "        prob_ani_smoo=round(((prob_ani+(nc*1/nc))/(sum_animals+nc)),4)\n",
    "    y.append(prob_ani_smoo)\n",
    "    print(\" \")\n",
    "    print(\"probability(\",searc_word[j],\"/flowers) is\",prob_flow_smoo)\n",
    "    print(\" \")\n",
    "    print(\"probability(\",searc_word[j],\"/animals) is\",prob_ani_smoo)\n",
    "    print(\" \")\n",
    "print(x)\n",
    "print(y)   \n"
   ]
  },
  {
   "cell_type": "code",
   "execution_count": null,
   "id": "758ab1ad",
   "metadata": {},
   "outputs": [],
   "source": []
  },
  {
   "cell_type": "markdown",
   "id": "3698bbb8",
   "metadata": {},
   "source": [
    "## Classifying a text document"
   ]
  },
  {
   "cell_type": "code",
   "execution_count": 22,
   "id": "ce6a8a63",
   "metadata": {},
   "outputs": [],
   "source": [
    "df=pd.read_excel(\"C:\\\\Users\\\\vadda\\\\OneDrive\\\\Desktop\\\\MSc Big Data\\\\test.xlsx\")"
   ]
  },
  {
   "cell_type": "code",
   "execution_count": 23,
   "id": "77c8c556",
   "metadata": {},
   "outputs": [],
   "source": [
    "df.index=['DTest']"
   ]
  },
  {
   "cell_type": "code",
   "execution_count": 24,
   "id": "b0d51dbd",
   "metadata": {},
   "outputs": [
    {
     "data": {
      "text/html": [
       "<div>\n",
       "<style scoped>\n",
       "    .dataframe tbody tr th:only-of-type {\n",
       "        vertical-align: middle;\n",
       "    }\n",
       "\n",
       "    .dataframe tbody tr th {\n",
       "        vertical-align: top;\n",
       "    }\n",
       "\n",
       "    .dataframe thead th {\n",
       "        text-align: right;\n",
       "    }\n",
       "</style>\n",
       "<table border=\"1\" class=\"dataframe\">\n",
       "  <thead>\n",
       "    <tr style=\"text-align: right;\">\n",
       "      <th></th>\n",
       "      <th>grow</th>\n",
       "      <th>pollen</th>\n",
       "      <th>prey</th>\n",
       "      <th>animal</th>\n",
       "      <th>plant</th>\n",
       "      <th>size</th>\n",
       "    </tr>\n",
       "  </thead>\n",
       "  <tbody>\n",
       "    <tr>\n",
       "      <th>DTest</th>\n",
       "      <td>5</td>\n",
       "      <td>2</td>\n",
       "      <td>7</td>\n",
       "      <td>5</td>\n",
       "      <td>3</td>\n",
       "      <td>7</td>\n",
       "    </tr>\n",
       "  </tbody>\n",
       "</table>\n",
       "</div>"
      ],
      "text/plain": [
       "       grow  pollen  prey  animal  plant  size\n",
       "DTest     5       2     7       5      3     7"
      ]
     },
     "execution_count": 24,
     "metadata": {},
     "output_type": "execute_result"
    }
   ],
   "source": [
    "df"
   ]
  },
  {
   "cell_type": "code",
   "execution_count": 25,
   "id": "ef77f859",
   "metadata": {},
   "outputs": [],
   "source": [
    "#calculating posterior probability\n",
    "#     p(c/w)=p(c)*∑p(wj/c) , j=1 to 2 for a two class problem"
   ]
  },
  {
   "cell_type": "code",
   "execution_count": 26,
   "id": "9b4b11d6",
   "metadata": {},
   "outputs": [],
   "source": [
    "g=df.iloc[0]"
   ]
  },
  {
   "cell_type": "code",
   "execution_count": 27,
   "id": "7a95465b",
   "metadata": {},
   "outputs": [
    {
     "data": {
      "text/plain": [
       "grow      5\n",
       "pollen    2\n",
       "prey      7\n",
       "animal    5\n",
       "plant     3\n",
       "size      7\n",
       "Name: DTest, dtype: int64"
      ]
     },
     "execution_count": 27,
     "metadata": {},
     "output_type": "execute_result"
    }
   ],
   "source": [
    "g"
   ]
  },
  {
   "cell_type": "code",
   "execution_count": 28,
   "id": "cb852cbe",
   "metadata": {},
   "outputs": [],
   "source": [
    "import numpy as np\n"
   ]
  },
  {
   "cell_type": "code",
   "execution_count": 29,
   "id": "fb842798",
   "metadata": {},
   "outputs": [
    {
     "name": "stdout",
     "output_type": "stream",
     "text": [
      "-0.301\n",
      "-7.3878\n",
      "-1.2642\n",
      "-10.3429\n",
      "-3.8903\n",
      "-1.3071\n",
      "-5.4465\n",
      "Final posterior probability p(flowers/w) -29.9398\n"
     ]
    }
   ],
   "source": [
    "# calculating posterior probability for flowers class\n",
    "p_flowers_by_w=round(np.log10(0.5),4)\n",
    "print(p_flowers_by_w)\n",
    "for i in range(0,6):\n",
    "    j=round(np.log10(x[i]**g[i]),4)\n",
    "    print(j)\n",
    "    p_flowers_by_w=p_flowers_by_w+j\n",
    "print(\"Final posterior probability p(flowers/w)\",p_flowers_by_w)"
   ]
  },
  {
   "cell_type": "code",
   "execution_count": 30,
   "id": "64fef952",
   "metadata": {},
   "outputs": [
    {
     "name": "stdout",
     "output_type": "stream",
     "text": [
      "Final posterior probability p(animals/w) -16.5669\n"
     ]
    }
   ],
   "source": [
    "#calculating posterior probability for animals class\n",
    "p_animals_by_w=round(np.log10(0.5),4)\n",
    "for i in range(0,6):\n",
    "    k=round(np.log10(y[i]**g[i]),4)\n",
    "    p_animals_by_w=p_animals_by_w+k\n",
    "print(\"Final posterior probability p(animals/w)\",p_animals_by_w)\n"
   ]
  },
  {
   "cell_type": "code",
   "execution_count": 31,
   "id": "7d886719",
   "metadata": {},
   "outputs": [
    {
     "name": "stdout",
     "output_type": "stream",
     "text": [
      "The document Dtest belongs to animals class\n"
     ]
    }
   ],
   "source": [
    "if(p_flowers_by_w>p_animals_by_w):\n",
    "    print(\"The document DTest belongs to flowers class\")\n",
    "else:\n",
    "    print(\"The document Dtest belongs to animals class\")"
   ]
  }
 ],
 "metadata": {
  "kernelspec": {
   "display_name": "Python 3 (ipykernel)",
   "language": "python",
   "name": "python3"
  },
  "language_info": {
   "codemirror_mode": {
    "name": "ipython",
    "version": 3
   },
   "file_extension": ".py",
   "mimetype": "text/x-python",
   "name": "python",
   "nbconvert_exporter": "python",
   "pygments_lexer": "ipython3",
   "version": "3.10.5"
  }
 },
 "nbformat": 4,
 "nbformat_minor": 5
}
